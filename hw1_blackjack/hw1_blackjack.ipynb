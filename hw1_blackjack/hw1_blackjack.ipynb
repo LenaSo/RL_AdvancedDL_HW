{
 "cells": [
  {
   "cell_type": "code",
   "execution_count": 1,
   "id": "c0c968b8",
   "metadata": {},
   "outputs": [],
   "source": [
    "import functools\n",
    "from functools import partial\n",
    "from collections import defaultdict\n",
    "import copy\n",
    "\n",
    "from pathos.multiprocessing import Pool\n",
    "\n",
    "import numpy as np\n",
    "\n",
    "import matplotlib as mpl\n",
    "import matplotlib.pyplot as plt\n",
    "\n",
    "from IPython.display import clear_output\n",
    "\n",
    "import gym\n",
    "\n",
    "FIG_SIZE = (16,5)\n",
    "EPISODE_N = 200000\n",
    "BLACKJACK_GEN = lambda: gym.make('Blackjack-v1', natural=True, sab=False)"
   ]
  },
  {
   "cell_type": "markdown",
   "id": "83cf94a0",
   "metadata": {},
   "source": [
    ">   ## Часть первая, с блекджеком и стратегиями\n",
    ">    \n",
    ">   1. Рассмотрим очень простую стратегию: говорить stand, если у нас на руках комбинация в 19, 20 или 21 очко, во всех остальных случаях говорить hit. Используйте методы Монте-Карло, чтобы оценить выигрыш от этой стратегии.\n",
    ">    \n",
    ">   2. Реализуйте метод обучения с подкреплением без модели (можно Q-обучение, но рекомендую попробовать и другие, например Monte Carlo control) для обучения стратегии в блекджеке, используя окружение Blackjack-v0 из OpenAI Gym.\n",
    ">    \n",
    ">   3. Сколько выигрывает казино у вашей стратегии? Нарисуйте графики среднего дохода вашего метода (усреднённого по крайней мере по 100000 раздач, а лучше больше) по ходу обучения. Попробуйте подобрать оптимальные гиперпараметры."
   ]
  },
  {
   "cell_type": "code",
   "execution_count": 2,
   "id": "85601ec9",
   "metadata": {},
   "outputs": [
    {
     "name": "stdout",
     "output_type": "stream",
     "text": [
      "(21, 10, True) 1.5 True {}\n"
     ]
    }
   ],
   "source": [
    "env = BLACKJACK_GEN()\n",
    "while True:\n",
    "    state = env.reset()\n",
    "    if state[0] == 21:\n",
    "        state, reward, done, info = env.step(0)\n",
    "        print(state, reward, done, info)\n",
    "        break"
   ]
  },
  {
   "cell_type": "code",
   "execution_count": 3,
   "id": "86dec76b",
   "metadata": {},
   "outputs": [],
   "source": [
    "def simple_policy(state, max_sum=19):\n",
    "    action = 1 if state[0] < max_sum else 0\n",
    "    return action"
   ]
  },
  {
   "cell_type": "code",
   "execution_count": 4,
   "id": "9076f298",
   "metadata": {},
   "outputs": [],
   "source": [
    "def play_episodes(n_episodes, env_gen, policy_fun):\n",
    "    env = env_gen()\n",
    "    \n",
    "    sum_steps, sum_rewards = 0, 0\n",
    "    for _ in range(n_episodes):\n",
    "        state = env.reset()\n",
    "        \n",
    "        while state[0] < 12:\n",
    "            state, reward, done, info = env.step(1)\n",
    "\n",
    "        for step in range(1,100):\n",
    "            if state[0] == 21:\n",
    "                action = 0\n",
    "            else:\n",
    "                action = policy_fun(state)\n",
    "\n",
    "            state, reward, done, info = env.step(action)\n",
    "            if done:\n",
    "                sum_steps += step\n",
    "                sum_rewards += reward\n",
    "                break\n",
    "    env.close()\n",
    "    return sum_rewards / n_episodes, sum_steps / n_episodes"
   ]
  },
  {
   "cell_type": "code",
   "execution_count": 5,
   "id": "1f91bc96",
   "metadata": {},
   "outputs": [],
   "source": [
    "def pplay_episodes(n_episodes, env_gen, policy_fun, np=1000):\n",
    "    with Pool() as P:\n",
    "        rewards_steps = P.map(partial(play_episodes, env_gen=env_gen, policy_fun=policy_fun),\n",
    "                              [n_episodes // np for _ in range(np)])\n",
    "    mean_rewards, mean_steps = [sum(r) / len(r) for r in zip(*rewards_steps)]\n",
    "    return mean_rewards, mean_steps"
   ]
  },
  {
   "cell_type": "code",
   "execution_count": 6,
   "id": "029be844",
   "metadata": {},
   "outputs": [
    {
     "name": "stdout",
     "output_type": "stream",
     "text": [
      "Средняя награда: -0.17979500000000018\n",
      "Среднее число шагов: 1.5049349999999977\n",
      "CPU times: user 169 ms, sys: 37 ms, total: 206 ms\n",
      "Wall time: 2.57 s\n"
     ]
    }
   ],
   "source": [
    "%%time\n",
    "mean_rewards, mean_steps = pplay_episodes(EPISODE_N,\n",
    "                                          BLACKJACK_GEN, \n",
    "                                          partial(simple_policy, max_sum=19))\n",
    "print(f\"Средняя награда: {mean_rewards}\\nСреднее число шагов: {mean_steps}\")  "
   ]
  },
  {
   "cell_type": "code",
   "execution_count": 7,
   "id": "46a5f7eb",
   "metadata": {},
   "outputs": [
    {
     "name": "stdout",
     "output_type": "stream",
     "text": [
      "CPU times: user 1.27 s, sys: 306 ms, total: 1.57 s\n",
      "Wall time: 22.3 s\n"
     ]
    },
    {
     "data": {
      "text/plain": [
       "[(12, -0.08751250000000013, 1.0),\n",
       " (13, -0.07452500000000001, 1.0823700000000105),\n",
       " (14, -0.05955749999999996, 1.1639399999999953),\n",
       " (15, -0.053810000000000004, 1.2405050000000024),\n",
       " (16, -0.05271250000000001, 1.3166600000000004),\n",
       " (17, -0.05704000000000002, 1.3864700000000019),\n",
       " (18, -0.09064499999999992, 1.4491149999999997),\n",
       " (19, -0.18338749999999962, 1.5030499999999996),\n",
       " (20, -0.3334875000000003, 1.5573750000000002)]"
      ]
     },
     "execution_count": 7,
     "metadata": {},
     "output_type": "execute_result"
    }
   ],
   "source": [
    "%%time\n",
    "[(max_sum,) + pplay_episodes(EPISODE_N,\n",
    "                             BLACKJACK_GEN, \n",
    "                             partial(simple_policy, max_sum=max_sum))\n",
    " for max_sum in range(12,21)]"
   ]
  },
  {
   "cell_type": "markdown",
   "id": "d9549eba",
   "metadata": {},
   "source": [
    "Итак, если смотреть только на сумму своих карт, то лучше всего заканчивать игру на 14-17 очках."
   ]
  },
  {
   "cell_type": "markdown",
   "id": "00d3ad3d",
   "metadata": {},
   "source": [
    "Попробуем улучшить статерию, учитывая все доступные компоненты состояния."
   ]
  },
  {
   "cell_type": "code",
   "execution_count": 8,
   "id": "51532b9d",
   "metadata": {},
   "outputs": [],
   "source": [
    "class Reward:\n",
    "    # statistic of rewards on some action\n",
    "    def __init__(self, s=0, c=0, m=0):\n",
    "        self.sum = s\n",
    "        self.cnt = c\n",
    "        self.mean = m\n",
    "        \n",
    "    def __repr__(self):\n",
    "        return f\"Return sum={self.sum}, cnt={self.cnt}, mean={self.mean}\"\n",
    "    \n",
    "    def add(self, r, lr=-1):\n",
    "        self.cnt += 1\n",
    "        self.sum += r\n",
    "        if lr > 0:\n",
    "            self.mean += lr * (r - self.mean)\n",
    "        else:\n",
    "            self.mean = self.sum / self.cnt\n",
    "     \n",
    "    @staticmethod\n",
    "    def mean(rewards):\n",
    "        if not rewards:\n",
    "            return Reward()\n",
    "        r_sum = sum([r.sum for r in rewards]) / len(rewards)\n",
    "        r_cnt = sum([r.cnt for r in rewards]) / len(rewards)\n",
    "        r_mean = sum([r.mean * r.cnt for r in rewards]) / sum([r.cnt for r in rewards]) if r_cnt else 0\n",
    "        return Reward(r_sum, r_cnt, r_mean)\n",
    "    \n",
    "    @staticmethod\n",
    "    def max(rewards):\n",
    "        return max([r.mean for r in rewards])\n",
    "    \n",
    "    @staticmethod\n",
    "    def greedy(rewards):\n",
    "        return np.argmax([r.mean for r in rewards])\n",
    "    \n",
    "    @staticmethod\n",
    "    def eps_greedy(rewards, eps=0.2):\n",
    "        return np.random.randint(len(rewards)) if np.random.rand() < eps else np.argmax([r.mean for r in rewards])\n",
    "\n",
    "    @staticmethod\n",
    "    def ucb1(rewards, C=np.sqrt(2)):\n",
    "        n = sum([r.cnt for r in rewards]) or 1\n",
    "        priorities = [\n",
    "            r.mean + (C * np.sqrt(np.log(n) / r.cnt) if r.cnt != 0 else 10)\n",
    "            for r in rewards\n",
    "        ]\n",
    "        return np.argmax(priorities)"
   ]
  },
  {
   "cell_type": "code",
   "execution_count": 9,
   "id": "e28485d7",
   "metadata": {},
   "outputs": [],
   "source": [
    "def episode_MC_control(Q, env, state, explore_action_fun, max_steps=100):\n",
    "    episode_history = []\n",
    "    for step in range(max_steps):\n",
    "        if state[0] == 21:\n",
    "            action = 0\n",
    "        else:\n",
    "            greedy_action = Reward.greedy(Q[state])\n",
    "            action = explore_action_fun(Q[state])\n",
    "            episode_history.append((state, action, greedy_action))\n",
    "\n",
    "        state, reward, done, info = env.step(action)\n",
    "        if done:\n",
    "            for state, action, greedy_action in episode_history[::-1]:\n",
    "                Q[state][action].add(reward)\n",
    "                if action != greedy_action: # off-policy\n",
    "                    break\n",
    "            break\n",
    "    return reward"
   ]
  },
  {
   "cell_type": "code",
   "execution_count": 10,
   "id": "0ce8b0c3",
   "metadata": {},
   "outputs": [],
   "source": [
    "def episode_Q_learning(Q, env, state, explore_action_fun, max_steps=100, lr=1e-4):\n",
    "    for step in range(max_steps):\n",
    "        if state[0] == 21:\n",
    "            state1, reward, done, info = env.step(0)\n",
    "        else:\n",
    "            action = explore_action_fun(Q[state])\n",
    "            state_next, reward, done, info = env.step(action)\n",
    "            if done:\n",
    "                Q[state][action].add(reward, lr=lr)\n",
    "            else:\n",
    "                Q[state][action].add(reward + Reward.max(Q[state_next]), lr=lr) # reward=0\n",
    "            state = state_next\n",
    "        \n",
    "        if done:\n",
    "            break\n",
    "    return reward"
   ]
  },
  {
   "cell_type": "code",
   "execution_count": 11,
   "id": "431f0c5e",
   "metadata": {},
   "outputs": [],
   "source": [
    "def train(Q, env_gen, n_episodes, episode_train_fun):\n",
    "    # episode_train_fun = episode_Q_learning or episode_MC_control\n",
    "    env = env_gen()\n",
    "    for i_episode in range(1, n_episodes + 1):\n",
    "        state = env.reset()\n",
    "\n",
    "        while state[0] < 12:\n",
    "            state, _, _, _ = env.step(1)\n",
    "\n",
    "        episode_train_fun(Q, env, state)\n",
    "    env.close()        \n",
    "    return Q"
   ]
  },
  {
   "cell_type": "markdown",
   "id": "e10827b0",
   "metadata": {},
   "source": [
    "Вариант обучения с распараллеливанием и дальнейшим усреднением"
   ]
  },
  {
   "cell_type": "code",
   "execution_count": 12,
   "id": "dbc7088c",
   "metadata": {},
   "outputs": [],
   "source": [
    "def ptrain(Q, env_gen, n_episodes, episode_train_fun, np=10):\n",
    "    with Pool() as P:\n",
    "        Q_list = P.map(partial(train, \n",
    "                              env_gen=env_gen, \n",
    "                              n_episodes=n_episodes, \n",
    "                              episode_train_fun=episode_train_fun),\n",
    "                      [copy.deepcopy(Q) for _ in range(np)])\n",
    "    states = Q.keys()\n",
    "    for q in Q_list:\n",
    "        states |= q.keys()\n",
    "    for state in states:\n",
    "        rewards_list = [q[state] for q in Q_list if state in q]\n",
    "        actions_list = zip(*rewards_list)\n",
    "        Q[state] = tuple(Reward.mean(r_list) for r_list in actions_list)\n",
    "\n",
    "    return Q"
   ]
  },
  {
   "cell_type": "code",
   "execution_count": 13,
   "id": "1fb74c60",
   "metadata": {},
   "outputs": [],
   "source": [
    "class Game:\n",
    "    def __init__(self, env_gen, train_fun=ptrain):\n",
    "        self._train_fun = train_fun\n",
    "        self._env_gen = env_gen\n",
    "        nA = env_gen().action_space.n\n",
    "        self.Q = defaultdict(lambda : tuple(Reward() for _ in range(nA)))\n",
    "        \n",
    "    def policy_from_Q(self):\n",
    "        pi = defaultdict(lambda : 0)\n",
    "        for state in self.Q:\n",
    "            pi[state] = Reward.greedy(self.Q[state])\n",
    "        return pi\n",
    "       \n",
    "    def train_show(self, n_episodes, episode_train_fun, episodes_step=10000):\n",
    "        plot_data = {'x':[], 'y':[]}\n",
    "        for i_step in range(1, n_episodes//episodes_step + 1):\n",
    "            \n",
    "            self._train_fun(self.Q, self._env_gen, episodes_step, episode_train_fun)\n",
    "\n",
    "            pi = self.policy_from_Q()\n",
    "            mean_rewards, mean_steps = pplay_episodes(EPISODE_N, self._env_gen, lambda s : pi[s])\n",
    "            \n",
    "            plot_data['x'].append(i_step * episodes_step)\n",
    "            plot_data['y'].append(mean_rewards)\n",
    "            clear_output(True)\n",
    "            plt.figure(figsize=FIG_SIZE)\n",
    "            plt.plot(plot_data['x'], plot_data['y'], '-r.')\n",
    "            plt.grid()\n",
    "            plt.show()      \n",
    "    "
   ]
  },
  {
   "cell_type": "markdown",
   "id": "ac86982f",
   "metadata": {},
   "source": [
    "Q-learing c постоянным шагом обучения и распараллеливанием обучения"
   ]
  },
  {
   "cell_type": "code",
   "execution_count": 14,
   "id": "4f97ffbb",
   "metadata": {},
   "outputs": [
    {
     "data": {
      "image/png": "[encoded data removed]",
      "text/plain": [
       "<Figure size 1152x360 with 1 Axes>"
      ]
     },
     "metadata": {
      "needs_background": "light"
     },
     "output_type": "display_data"
    },
    {
     "name": "stdout",
     "output_type": "stream",
     "text": [
      "CPU times: user 14.1 s, sys: 1.88 s, total: 16 s\n",
      "Wall time: 1min 26s\n"
     ]
    }
   ],
   "source": [
    "%%time\n",
    "g = Game(BLACKJACK_GEN, train_fun=partial(ptrain, np=10))\n",
    "Game.train_show(g, n_episodes=200000, \n",
    "                   episode_train_fun=partial(episode_Q_learning, \n",
    "                                             lr=0.01,\n",
    "                                             explore_action_fun=partial(Reward.eps_greedy, \n",
    "                                                                        eps=0.2)\n",
    "                                            )\n",
    "                  )"
   ]
  },
  {
   "cell_type": "markdown",
   "id": "8cff3511",
   "metadata": {},
   "source": [
    "Q-learing c обычным усреднением, последовательное в один поток"
   ]
  },
  {
   "cell_type": "code",
   "execution_count": 15,
   "id": "c66dfb31",
   "metadata": {},
   "outputs": [
    {
     "data": {
      "image/png": "[encoded data removed]",
      "text/plain": [
       "<Figure size 1152x360 with 1 Axes>"
      ]
     },
     "metadata": {
      "needs_background": "light"
     },
     "output_type": "display_data"
    },
    {
     "name": "stdout",
     "output_type": "stream",
     "text": [
      "CPU times: user 29 s, sys: 2.72 s, total: 31.8 s\n",
      "Wall time: 1min 11s\n"
     ]
    }
   ],
   "source": [
    "%%time\n",
    "g = Game(BLACKJACK_GEN, train_fun=train)\n",
    "g.train_show(n_episodes=200000, \n",
    "               episode_train_fun=partial(episode_Q_learning, \n",
    "                                         lr=-1,\n",
    "                                         explore_action_fun=partial(Reward.eps_greedy, \n",
    "                                                                    eps=0.2)\n",
    "                                        )\n",
    "              )"
   ]
  },
  {
   "cell_type": "markdown",
   "id": "f7ab8d3f",
   "metadata": {},
   "source": [
    "Monte-Carlo control c eps-greedy exploration"
   ]
  },
  {
   "cell_type": "code",
   "execution_count": 16,
   "id": "a8ec22c9",
   "metadata": {},
   "outputs": [
    {
     "data": {
      "image/png": "[encoded data removed]",
      "text/plain": [
       "<Figure size 1152x360 with 1 Axes>"
      ]
     },
     "metadata": {
      "needs_background": "light"
     },
     "output_type": "display_data"
    },
    {
     "name": "stdout",
     "output_type": "stream",
     "text": [
      "CPU times: user 13.6 s, sys: 1.94 s, total: 15.5 s\n",
      "Wall time: 1min 32s\n"
     ]
    }
   ],
   "source": [
    "%%time\n",
    "g = Game(BLACKJACK_GEN, train_fun=partial(ptrain, np=10))\n",
    "g.train_show(n_episodes=200000, \n",
    "           episode_train_fun=partial(episode_MC_control, \n",
    "                                     explore_action_fun=partial(Reward.eps_greedy, \n",
    "                                                                eps=0.2)\n",
    "                                    )\n",
    "          )"
   ]
  },
  {
   "cell_type": "markdown",
   "id": "cac13bc7",
   "metadata": {},
   "source": [
    "Monte-Carlo control c UCB1 exploration"
   ]
  },
  {
   "cell_type": "code",
   "execution_count": 17,
   "id": "9aa65b76",
   "metadata": {},
   "outputs": [
    {
     "data": {
      "image/png": "[encoded data removed]",
      "text/plain": [
       "<Figure size 1152x360 with 1 Axes>"
      ]
     },
     "metadata": {
      "needs_background": "light"
     },
     "output_type": "display_data"
    },
    {
     "name": "stdout",
     "output_type": "stream",
     "text": [
      "CPU times: user 32.2 s, sys: 2.58 s, total: 34.8 s\n",
      "Wall time: 1min 16s\n"
     ]
    }
   ],
   "source": [
    "%%time\n",
    "g = Game(BLACKJACK_GEN, train_fun=train)\n",
    "g.train_show(n_episodes=200000, \n",
    "           episode_train_fun=partial(episode_MC_control, \n",
    "                                     explore_action_fun=partial(Reward.ucb1, \n",
    "                                                                C=np.sqrt(2))\n",
    "                                    )\n",
    "          )"
   ]
  },
  {
   "cell_type": "code",
   "execution_count": 18,
   "id": "8f3f96d7",
   "metadata": {},
   "outputs": [
    {
     "data": {
      "text/plain": [
       "[((12, 1, False), 1, -0.7081081081081081, 185, -0.5230446927374302, 1432),\n",
       " ((12, 1, True), 1, -0.6923076923076923, 13, -0.20967741935483872, 62),\n",
       " ((12, 2, False), 1, -0.582089552238806, 67, -0.19892793329362715, 1679),\n",
       " ((12, 2, True), 1, -1.0, 5, -0.03076923076923077, 65),\n",
       " ((12, 3, False), 0, -0.2162773172569706, 1327, -0.31564245810055863, 358),\n",
       " ((12, 3, True), 0, -0.07142857142857142, 56, -0.19444444444444445, 36),\n",
       " ((12, 4, False), 1, -0.23798882681564246, 895, -0.2335680751173709, 852),\n",
       " ((12, 4, True), 1, -0.6666666666666666, 6, 0.24324324324324326, 74),\n",
       " ((12, 5, False), 0, -0.21729490022172948, 902, -0.2258852258852259, 819),\n",
       " ((12, 5, True), 1, -0.25, 8, 0.34615384615384615, 52),\n",
       " ((12, 6, False), 0, -0.1280701754385965, 1140, -0.17870036101083034, 554),\n",
       " ((12, 6, True), 0, -0.07462686567164178, 67, -0.08333333333333333, 24),\n",
       " ((12, 7, False), 1, -0.8461538461538461, 26, -0.17276544691061788, 1667),\n",
       " ((12, 7, True), 1, -0.7777777777777778, 9, -0.046875, 64),\n",
       " ((12, 8, False), 1, -0.45893719806763283, 207, -0.28975741239892183, 1484),\n",
       " ((12, 8, True), 1, -0.5555555555555556, 9, 0.046153846153846156, 65),\n",
       " ((12, 9, False), 1, -0.5233160621761658, 193, -0.33241379310344826, 1450),\n",
       " ((12, 9, True), 1, -0.5714285714285714, 14, -0.06666666666666667, 60),\n",
       " ((12, 10, False), 1, -0.5572916666666666, 384, -0.4017786247419406, 6297),\n",
       " ((12, 10, True), 1, -0.5, 28, -0.041237113402061855, 291),\n",
       " ((13, 1, False), 1, -0.7456647398843931, 173, -0.5509933774834437, 1510),\n",
       " ((13, 1, True), 1, -0.7894736842105263, 19, -0.29577464788732394, 142),\n",
       " ((13, 2, False), 0, -0.28585365853658534, 1025, -0.3124231242312423, 813),\n",
       " ((13, 2, True), 1, -0.6, 10, 0.22875816993464052, 153),\n",
       " ((13, 3, False), 1, -0.2900763358778626, 786, -0.2817371937639198, 898),\n",
       " ((13, 3, True), 1, -0.23076923076923078, 26, 0.13114754098360656, 122),\n",
       " ((13, 4, False), 0, -0.26585094549499444, 899, -0.2711471610660487, 863),\n",
       " ((13, 4, True), 1, -0.13513513513513514, 37, 0.09900990099009901, 101),\n",
       " ((13, 5, False), 0, -0.16430769230769232, 1625, -0.4375, 112),\n",
       " ((13, 5, True), 1, -0.02857142857142857, 70, 0.06140350877192982, 114),\n",
       " ((13, 6, False), 0, -0.15728155339805824, 1030, -0.1857541899441341, 716),\n",
       " ((13, 6, True), 1, -1.0, 6, 0.12244897959183673, 147),\n",
       " ((13, 7, False), 1, -0.5172413793103449, 145, -0.2858040201005025, 1592),\n",
       " ((13, 7, True), 1, -0.75, 8, 0.12781954887218044, 133),\n",
       " ((13, 8, False), 1, -0.514018691588785, 214, -0.34564643799472294, 1516),\n",
       " ((13, 8, True), 1, -0.3333333333333333, 39, -0.03870967741935484, 155),\n",
       " ((13, 9, False), 1, -0.5221843003412969, 293, -0.39273705447209145, 1487),\n",
       " ((13, 9, True), 1, -0.6923076923076923, 13, -0.021739130434782608, 138),\n",
       " ((13, 10, False), 1, -0.5740740740740741, 648, -0.46139240506329116, 6320),\n",
       " ((13, 10, True), 1, -0.6774193548387096, 31, -0.16828478964401294, 618),\n",
       " ((14, 1, False), 1, -0.7068403908794788, 307, -0.5847797062750334, 1498),\n",
       " ((14, 1, True), 1, -1.0, 12, -0.2635135135135135, 148),\n",
       " ((14, 2, False), 0, -0.2961992136304063, 1526, -0.43223443223443225, 273),\n",
       " ((14, 2, True), 1, -0.6923076923076923, 13, 0.013071895424836602, 153),\n",
       " ((14, 3, False), 0, -0.20387096774193547, 1550, -0.4011627906976744, 172),\n",
       " ((14, 3, True), 1, -0.14754098360655737, 61, 0.02631578947368421, 114),\n",
       " ((14, 4, False), 0, -0.2122033898305085, 1475, -0.3465346534653465, 303),\n",
       " ((14, 4, True), 1, -0.6, 15, -0.012903225806451613, 155),\n",
       " ((14, 5, False), 0, -0.1368421052631579, 1710, -0.7272727272727273, 33),\n",
       " ((14, 5, True), 1, -0.30434782608695654, 23, 0.14173228346456693, 127),\n",
       " ((14, 6, False), 0, -0.15422276621787026, 1634, -0.5692307692307692, 65),\n",
       " ((14, 6, True), 1, -0.2222222222222222, 54, -0.03875968992248062, 129),\n",
       " ((14, 7, False), 1, -0.5025380710659898, 197, -0.31715210355987056, 1545),\n",
       " ((14, 7, True), 1, -1.0, 6, 0.06707317073170732, 164),\n",
       " ((14, 8, False), 1, -0.632, 125, -0.3718475073313783, 1705),\n",
       " ((14, 8, True), 1, -0.625, 16, -0.01910828025477707, 157),\n",
       " ((14, 9, False), 1, -0.6402116402116402, 189, -0.44526445264452646, 1626),\n",
       " ((14, 9, True), 1, -0.5294117647058824, 17, 0.018633540372670808, 161),\n",
       " ((14, 10, False), 1, -0.5736434108527132, 1032, -0.49259801529201236, 6147),\n",
       " ((14, 10, True), 1, -0.6, 35, -0.11746522411128284, 647),\n",
       " ((15, 1, False), 1, -0.9, 100, -0.6013986013986014, 1716),\n",
       " ((15, 1, True), 1, -0.7297297297297297, 37, -0.4246575342465753, 146),\n",
       " ((15, 2, False), 0, -0.31928480204342274, 1566, -0.5405405405405406, 148),\n",
       " ((15, 2, True), 1, -0.7142857142857143, 14, -0.044444444444444446, 180),\n",
       " ((15, 3, False), 0, -0.25394736842105264, 1520, -0.43617021276595747, 188),\n",
       " ((15, 3, True), 1, -0.2, 40, 0.025806451612903226, 155),\n",
       " ((15, 4, False), 0, -0.17388316151202748, 1455, -0.37640449438202245, 178),\n",
       " ((15, 4, True), 1, -0.5384615384615384, 13, 0.1320754716981132, 159),\n",
       " ((15, 5, False), 0, -0.1846743295019157, 1305, -0.32558139534883723, 258),\n",
       " ((15, 5, True), 1, -0.16923076923076924, 65, -0.03125, 96),\n",
       " ((15, 6, False), 0, -0.12885906040268458, 1490, -0.38016528925619836, 121),\n",
       " ((15, 6, True), 1, -0.3684210526315789, 19, 0.1509433962264151, 159),\n",
       " ((15, 7, False), 1, -0.5789473684210527, 171, -0.36978851963746223, 1655),\n",
       " ((15, 7, True), 1, -0.25, 64, 0.006622516556291391, 151),\n",
       " ((15, 8, False), 1, -0.48484848484848486, 330, -0.36869340232858994, 1546),\n",
       " ((15, 8, True), 1, -0.625, 16, 0.0, 190),\n",
       " ((15, 9, False), 1, -0.6435643564356436, 202, -0.46395563770794823, 1623),\n",
       " ((15, 9, True), 1, -0.47058823529411764, 34, -0.10897435897435898, 156),\n",
       " ((15, 10, False), 1, -0.590521327014218, 1055, -0.5102435876754315, 6199),\n",
       " ((15, 10, True), 1, -0.7419354838709677, 31, -0.21480406386066764, 689),\n",
       " ((16, 1, False), 1, -0.7674418604651163, 387, -0.6695945945945946, 1480),\n",
       " ((16, 1, True), 1, -1.0, 16, -0.4152046783625731, 171),\n",
       " ((16, 2, False), 0, -0.2823151125401929, 1555, -0.5816326530612245, 98),\n",
       " ((16, 2, True), 1, -0.28888888888888886, 45, -0.043209876543209874, 162),\n",
       " ((16, 3, False), 0, -0.225531914893617, 1410, -0.4235294117647059, 170),\n",
       " ((16, 3, True), 1, -0.6923076923076923, 13, 0.005649717514124294, 177),\n",
       " ((16, 4, False), 0, -0.16336295283663704, 1463, -0.4583333333333333, 96),\n",
       " ((16, 4, True), 1, -0.3125, 32, 0.029069767441860465, 172),\n",
       " ((16, 5, False), 0, -0.16312056737588654, 1410, -0.5818181818181818, 55),\n",
       " ((16, 5, True), 1, -0.2413793103448276, 29, 0.15025906735751296, 193),\n",
       " ((16, 6, False), 0, -0.14367816091954022, 1392, -0.35, 160),\n",
       " ((16, 6, True), 1, -0.0967741935483871, 31, 0.26136363636363635, 176),\n",
       " ((16, 7, False), 1, -0.48710166919575115, 659, -0.4276923076923077, 1300),\n",
       " ((16, 7, True), 1, -1.0, 8, 0.0, 197),\n",
       " ((16, 8, False), 1, -0.5061475409836066, 976, -0.484504132231405, 968),\n",
       " ((16, 8, True), 1, -0.625, 16, 0.004807692307692308, 208),\n",
       " ((16, 9, False), 0, -0.5395189003436426, 1164, -0.5676392572944297, 754),\n",
       " ((16, 9, True), 1, -0.6296296296296297, 27, -0.1864406779661017, 177),\n",
       " ((16, 10, False), 0, -0.5653293284702854, 4661, -0.5810684161199625, 3201),\n",
       " ((16, 10, True), 1, -0.5466666666666666, 75, -0.24275862068965517, 725),\n",
       " ((17, 1, False), 0, -0.6355060034305318, 1166, -0.6623711340206185, 776),\n",
       " ((17, 1, True), 1, -0.7142857142857143, 28, -0.3241758241758242, 182),\n",
       " ((17, 2, False), 0, -0.11344805608667942, 1569, -0.6046511627906976, 43),\n",
       " ((17, 2, True), 1, -0.4444444444444444, 18, 0.14782608695652175, 230),\n",
       " ((17, 3, False), 0, -0.11134453781512606, 1428, -0.8947368421052632, 19),\n",
       " ((17, 3, True), 1, -0.08490566037735849, 106, -0.06578947368421052, 152),\n",
       " ((17, 4, False), 0, -0.09696569920844327, 1516, -0.8571428571428571, 21),\n",
       " ((17, 4, True), 1, -0.4166666666666667, 24, 0.048034934497816595, 229),\n",
       " ((17, 5, False), 0, -0.055312954876273655, 1374, -0.45161290322580644, 62),\n",
       " ((17, 5, True), 0, -0.007874015748031496, 127, -0.009009009009009009, 111),\n",
       " ((17, 6, False), 0, 0.02688953488372093, 1376, -0.4444444444444444, 45),\n",
       " ((17, 6, True), 1, 0.042105263157894736, 95, 0.15714285714285714, 140),\n",
       " ((17, 7, False), 0, -0.12269938650306748, 1793, -0.46987951807228917, 83),\n",
       " ((17, 7, True), 1, -0.4166666666666667, 24, 0.09417040358744394, 223),\n",
       " ((17, 8, False), 0, -0.37994891443167306, 1566, -0.4824120603015075, 398),\n",
       " ((17, 8, True), 1, -0.48, 25, -0.024154589371980676, 207),\n",
       " ((17, 9, False), 0, -0.42453397474443777, 1663, -0.5766129032258065, 248),\n",
       " ((17, 9, True), 1, -0.32142857142857145, 56, -0.10695187165775401, 187),\n",
       " ((17, 10, False), 0, -0.46404682274247494, 7176, -0.6795366795366795, 259),\n",
       " ((17, 10, True), 1, -0.5591397849462365, 93, -0.2924944812362031, 906),\n",
       " ((18, 1, False), 0, -0.3801560758082497, 1794, -0.6551724137931034, 116),\n",
       " ((18, 1, True), 0, -0.2620689655172414, 145, -0.3023255813953488, 129),\n",
       " ((18, 2, False), 0, 0.14408602150537633, 1395, -0.631578947368421, 19),\n",
       " ((18, 2, True), 0, 0.18565400843881857, 237, -0.05454545454545454, 55),\n",
       " ((18, 3, False), 0, 0.11886503067484662, 1304, -0.7058823529411765, 17),\n",
       " ((18, 3, True), 0, 0.0851063829787234, 141, 0.07913669064748201, 139),\n",
       " ((18, 4, False), 0, 0.19927536231884058, 1380, -0.6875, 16),\n",
       " ((18, 4, True), 0, 0.23267326732673269, 202, 0.11578947368421053, 95),\n",
       " ((18, 5, False), 0, 0.20061967467079783, 1291, -0.7142857142857143, 14),\n",
       " ((18, 5, True), 1, 0.10434782608695652, 115, 0.1901840490797546, 163),\n",
       " ((18, 6, False), 0, 0.274385408406027, 1261, -1.0, 8),\n",
       " ((18, 6, True), 0, 0.3898305084745763, 236, 0.09615384615384616, 52),\n",
       " ((18, 7, False), 0, 0.42951541850220265, 1816, -0.3, 20),\n",
       " ((18, 7, True), 0, 0.32075471698113206, 159, 0.2839506172839506, 81),\n",
       " ((18, 8, False), 0, 0.10346820809248555, 1730, -0.9230769230769231, 13),\n",
       " ((18, 8, True), 0, 0.10784313725490197, 306, -0.4, 25),\n",
       " ((18, 9, False), 0, -0.17391304347826086, 1702, -0.5714285714285714, 63),\n",
       " ((18, 9, True), 1, -0.2777777777777778, 36, 0.07425742574257425, 202),\n",
       " ((18, 10, False), 0, -0.23296447291788003, 6868, -0.7142857142857143, 63),\n",
       " ((18, 10, True), 1, -0.1843065693430657, 548, -0.17195325542570952, 599),\n",
       " ((19, 1, False), 0, -0.12386363636363637, 1760, -0.627906976744186, 43),\n",
       " ((19, 1, True), 0, -0.1419753086419753, 162, -0.2978723404255319, 141),\n",
       " ((19, 2, False), 0, 0.3811265544989027, 1367, -1.0, 7),\n",
       " ((19, 2, True), 0, 0.42045454545454547, 264, 0.18333333333333332, 60),\n",
       " ((19, 3, False), 0, 0.39872408293460926, 1254, -0.7777777777777778, 9),\n",
       " ((19, 3, True), 0, 0.4055299539170507, 217, 0.2980769230769231, 104),\n",
       " ((19, 4, False), 0, 0.41821112006446415, 1241, -0.7777777777777778, 9),\n",
       " ((19, 4, True), 1, 0.2446043165467626, 139, 0.2482758620689655, 145),\n",
       " ((19, 5, False), 0, 0.4458149779735683, 1135, -0.5384615384615384, 13),\n",
       " ((19, 5, True), 0, 0.3739130434782609, 230, 0.21875, 96),\n",
       " ((19, 6, False), 0, 0.5356536502546689, 1178, -0.75, 8),\n",
       " ((19, 6, True), 0, 0.5113122171945701, 221, 0.22916666666666666, 48),\n",
       " ((19, 7, False), 0, 0.6058348851644941, 1611, -0.6, 10),\n",
       " ((19, 7, True), 0, 0.6503067484662577, 326, 0.08695652173913043, 23),\n",
       " ((19, 8, False), 0, 0.5758683729433273, 1641, -0.6, 10),\n",
       " ((19, 8, True), 0, 0.5406698564593302, 209, 0.35294117647058826, 68),\n",
       " ((19, 9, False), 0, 0.30036188178528345, 1658, -1.0, 8),\n",
       " ((19, 9, True), 0, 0.25157232704402516, 318, -0.1935483870967742, 31),\n",
       " ((19, 10, False), 0, -0.009984639016897081, 6510, -0.9473684210526315, 19),\n",
       " ((19, 10, True), 0, 0.03711790393013101, 916, -0.07931034482758621, 290),\n",
       " ((20, 1, False), 0, 0.14789915966386555, 2380, -0.6842105263157895, 19),\n",
       " ((20, 1, True), 0, 0.07368421052631578, 285, -0.2894736842105263, 38),\n",
       " ((20, 2, False), 0, 0.6501698204754973, 2061, -1.0, 6),\n",
       " ((20, 2, True), 0, 0.6043956043956044, 273, 0.1935483870967742, 31),\n",
       " ((20, 3, False), 0, 0.6431513903192585, 1942, -1.0, 6),\n",
       " ((20, 3, True), 0, 0.5616883116883117, 308, 0.04, 25),\n",
       " ((20, 4, False), 0, 0.6594427244582043, 1938, -1.0, 5),\n",
       " ((20, 4, True), 0, 0.636986301369863, 292, 0.21875, 32),\n",
       " ((20, 5, False), 0, 0.6748949579831933, 1904, -1.0, 5),\n",
       " ((20, 5, True), 0, 0.647887323943662, 284, 0.3181818181818182, 44),\n",
       " ((20, 6, False), 0, 0.712241653418124, 1887, -1.0, 5),\n",
       " ((20, 6, True), 0, 0.7263513513513513, 296, 0.05555555555555555, 18),\n",
       " ((20, 7, False), 0, 0.7564208782104391, 2414, -1.0, 5),\n",
       " ((20, 7, True), 0, 0.7802547770700637, 314, 0.19047619047619047, 21),\n",
       " ((20, 8, False), 0, 0.7753682487725041, 2444, -1.0, 5),\n",
       " ((20, 8, True), 0, 0.821969696969697, 264, 0.3333333333333333, 24),\n",
       " ((20, 9, False), 0, 0.7706263498920086, 2315, -1.0, 5),\n",
       " ((20, 9, True), 0, 0.7692307692307693, 299, -0.75, 4),\n",
       " ((20, 10, False), 0, 0.44663400085215166, 9388, -1.0, 9),\n",
       " ((20, 10, True), 0, 0.44730679156908665, 1281, 0.12048192771084337, 83)]"
      ]
     },
     "execution_count": 18,
     "metadata": {},
     "output_type": "execute_result"
    }
   ],
   "source": [
    "sorted([(key, \n",
    "         0 if value[0].mean > value[1].mean else 1, \n",
    "         value[0].mean, value[0].cnt,\n",
    "         value[1].mean, value[1].cnt,) \n",
    "        for key, value in g.Q.items()], \n",
    "       key=lambda x: x[0])"
   ]
  },
  {
   "cell_type": "code",
   "execution_count": 19,
   "id": "44ad96e1",
   "metadata": {},
   "outputs": [
    {
     "data": {
      "text/plain": [
       "180"
      ]
     },
     "execution_count": 19,
     "metadata": {},
     "output_type": "execute_result"
    }
   ],
   "source": [
    "len(g.Q)"
   ]
  },
  {
   "cell_type": "markdown",
   "id": "d3ea9b69",
   "metadata": {},
   "source": [
    "Итак, обучением Q-функции на 180 состояний удалось немного улучшить средний выигрыш с (-0,05) до (-0,03).\n",
    "MC-control методы оказались немного лучше Q-learning."
   ]
  },
  {
   "cell_type": "markdown",
   "id": "44ce6b39",
   "metadata": {},
   "source": [
    ">## Часть вторая, удвоенная\n",
    "В базовый блекджек, описанный в предыдущем разделе, обыграть казино вряд ли получится. Но, к счастью, на этом история не заканчивается. Описанные выше правила были упрощёнными, а на самом деле у игрока есть ещё и другие возможности. Реализовывать split может оказаться непросто, поэтому давайте ограничимся удвоением ставки. Итак, у игрока появляется дополнительное действие:\n",
    ">\n",
    ">   • double — удвоить ставку; при этом больше действий делать нельзя, игроку выдаётся ровно одна дополнительная карта, а выигрыш или проигрыш удваивается.\n",
    ">    \n",
    ">   4. Реализуйте новый вариант блекджека на основе окружения Blackjack-v0 из OpenAI Gym, в котором разрешено удвоение ставки.\n",
    ">   5. Реализуйте метод обучения с подкреплением без модели для этого варианта, постройте графики, аналогичные п.2."
   ]
  },
  {
   "cell_type": "code",
   "execution_count": 20,
   "id": "7c7082da",
   "metadata": {},
   "outputs": [],
   "source": [
    "class DoubleBlackjack(gym.Env):\n",
    "    def __init__(self, env):\n",
    "        self._env = env\n",
    "        \n",
    "        self.action_space = gym.spaces.Discrete(3)\n",
    "        self.observation_space = self._env.observation_space\n",
    "        \n",
    "        \n",
    "    def step(self, action):   \n",
    "        if action == 2:\n",
    "            state, reward, done, info = self._env.step(1)\n",
    "            if not done:\n",
    "                state, reward, done, info = self._env.step(0)\n",
    "            reward *= 2\n",
    "        else:\n",
    "            state, reward, done, info = self._env.step(action)\n",
    "            \n",
    "        return state, reward, done, info\n",
    "\n",
    "    \n",
    "    def reset(self):     \n",
    "        return self._env.reset()\n",
    "    \n",
    "    def close(self):\n",
    "        self._env.close()"
   ]
  },
  {
   "cell_type": "code",
   "execution_count": 21,
   "id": "2bf68df1",
   "metadata": {},
   "outputs": [
    {
     "data": {
      "image/png": "[encoded data removed]",
      "text/plain": [
       "<Figure size 1152x360 with 1 Axes>"
      ]
     },
     "metadata": {
      "needs_background": "light"
     },
     "output_type": "display_data"
    },
    {
     "name": "stdout",
     "output_type": "stream",
     "text": [
      "CPU times: user 22.3 s, sys: 2.92 s, total: 25.2 s\n",
      "Wall time: 2min 24s\n"
     ]
    }
   ],
   "source": [
    "%%time\n",
    "g = Game(lambda: DoubleBlackjack(BLACKJACK_GEN()), train_fun=partial(ptrain, np=10))\n",
    "g.train_show(n_episodes=300000, \n",
    "           episode_train_fun=partial(episode_MC_control, \n",
    "                                     explore_action_fun=partial(Reward.ucb1, \n",
    "                                                                C=np.sqrt(2))\n",
    "                                    )\n",
    "          )"
   ]
  },
  {
   "cell_type": "code",
   "execution_count": 22,
   "id": "ac2d3ac1",
   "metadata": {},
   "outputs": [
    {
     "data": {
      "text/plain": [
       "defaultdict(<function __main__.Game.policy_from_Q.<locals>.<lambda>()>,\n",
       "            {(15, 5, False): 0,\n",
       "             (18, 10, False): 0,\n",
       "             (12, 10, False): 1,\n",
       "             (16, 5, False): 0,\n",
       "             (17, 10, True): 1,\n",
       "             (20, 6, False): 0,\n",
       "             (12, 9, True): 1,\n",
       "             (13, 4, True): 1,\n",
       "             (14, 3, False): 0,\n",
       "             (18, 7, False): 0,\n",
       "             (16, 6, True): 1,\n",
       "             (19, 2, False): 0,\n",
       "             (16, 7, False): 1,\n",
       "             (20, 7, True): 0,\n",
       "             (15, 6, True): 2,\n",
       "             (20, 1, False): 0,\n",
       "             (14, 5, False): 0,\n",
       "             (15, 10, True): 1,\n",
       "             (17, 1, False): 0,\n",
       "             (20, 9, True): 0,\n",
       "             (13, 5, True): 2,\n",
       "             (19, 8, False): 0,\n",
       "             (19, 5, True): 0,\n",
       "             (14, 4, True): 1,\n",
       "             (13, 10, False): 1,\n",
       "             (17, 3, False): 0,\n",
       "             (18, 1, True): 1,\n",
       "             (12, 2, False): 1,\n",
       "             (18, 2, False): 0,\n",
       "             (19, 7, True): 0,\n",
       "             (13, 7, True): 1,\n",
       "             (14, 6, True): 1,\n",
       "             (15, 1, False): 1,\n",
       "             (12, 6, False): 0,\n",
       "             (17, 2, True): 1,\n",
       "             (14, 10, True): 1,\n",
       "             (16, 1, False): 1,\n",
       "             (17, 6, True): 2,\n",
       "             (20, 2, False): 0,\n",
       "             (12, 5, True): 1,\n",
       "             (16, 9, True): 1,\n",
       "             (17, 4, True): 2,\n",
       "             (18, 3, False): 0,\n",
       "             (19, 9, False): 0,\n",
       "             (16, 3, False): 0,\n",
       "             (20, 3, True): 0,\n",
       "             (17, 8, True): 1,\n",
       "             (20, 4, False): 0,\n",
       "             (14, 7, True): 1,\n",
       "             (15, 2, True): 1,\n",
       "             (12, 7, True): 1,\n",
       "             (20, 8, False): 0,\n",
       "             (14, 1, False): 1,\n",
       "             (15, 7, False): 1,\n",
       "             (16, 2, True): 2,\n",
       "             (20, 5, True): 0,\n",
       "             (15, 4, True): 1,\n",
       "             (19, 1, True): 0,\n",
       "             (13, 1, True): 1,\n",
       "             (13, 2, False): 0,\n",
       "             (18, 4, True): 2,\n",
       "             (15, 8, True): 1,\n",
       "             (13, 6, False): 0,\n",
       "             (17, 10, False): 0,\n",
       "             (18, 8, True): 0,\n",
       "             (12, 9, False): 1,\n",
       "             (18, 9, False): 0,\n",
       "             (19, 3, True): 0,\n",
       "             (13, 3, True): 1,\n",
       "             (13, 4, False): 0,\n",
       "             (14, 2, True): 1,\n",
       "             (16, 4, False): 0,\n",
       "             (13, 8, False): 1,\n",
       "             (17, 9, True): 1,\n",
       "             (18, 10, True): 1,\n",
       "             (16, 8, False): 1,\n",
       "             (15, 10, False): 1,\n",
       "             (16, 5, True): 2,\n",
       "             (12, 1, True): 1,\n",
       "             (20, 6, True): 0,\n",
       "             (19, 5, False): 0,\n",
       "             (16, 10, False): 0,\n",
       "             (20, 10, True): 0,\n",
       "             (14, 3, True): 2,\n",
       "             (14, 4, False): 0,\n",
       "             (15, 9, True): 1,\n",
       "             (12, 3, True): 1,\n",
       "             (14, 8, False): 1,\n",
       "             (18, 1, False): 0,\n",
       "             (15, 3, False): 0,\n",
       "             (19, 7, False): 0,\n",
       "             (19, 4, True): 0,\n",
       "             (20, 1, True): 0,\n",
       "             (14, 6, False): 0,\n",
       "             (13, 9, False): 1,\n",
       "             (17, 2, False): 0,\n",
       "             (14, 10, False): 1,\n",
       "             (19, 6, True): 0,\n",
       "             (17, 6, False): 0,\n",
       "             (18, 5, False): 0,\n",
       "             (12, 5, False): 0,\n",
       "             (19, 10, True): 0,\n",
       "             (13, 10, True): 1,\n",
       "             (14, 9, True): 1,\n",
       "             (18, 2, True): 2,\n",
       "             (17, 5, True): 2,\n",
       "             (17, 8, False): 0,\n",
       "             (18, 6, True): 2,\n",
       "             (12, 4, True): 1,\n",
       "             (12, 7, False): 1,\n",
       "             (12, 8, True): 1,\n",
       "             (16, 1, True): 1,\n",
       "             (16, 2, False): 0,\n",
       "             (20, 2, True): 0,\n",
       "             (17, 7, True): 2,\n",
       "             (19, 1, False): 0,\n",
       "             (16, 6, False): 0,\n",
       "             (20, 7, False): 0,\n",
       "             (15, 5, True): 2,\n",
       "             (12, 10, True): 1,\n",
       "             (15, 6, False): 0,\n",
       "             (16, 3, True): 2,\n",
       "             (20, 4, True): 0,\n",
       "             (18, 8, False): 0,\n",
       "             (19, 3, False): 0,\n",
       "             (20, 8, True): 0,\n",
       "             (20, 9, False): 0,\n",
       "             (14, 2, False): 0,\n",
       "             (15, 7, True): 1,\n",
       "             (13, 5, False): 0,\n",
       "             (17, 9, False): 0,\n",
       "             (18, 7, True): 0,\n",
       "             (19, 2, True): 0,\n",
       "             (16, 7, True): 1,\n",
       "             (13, 2, True): 1,\n",
       "             (12, 1, False): 1,\n",
       "             (13, 6, True): 1,\n",
       "             (13, 7, False): 1,\n",
       "             (14, 5, True): 1,\n",
       "             (18, 9, True): 1,\n",
       "             (20, 10, False): 0,\n",
       "             (17, 1, True): 1,\n",
       "             (15, 9, False): 1,\n",
       "             (16, 4, True): 2,\n",
       "             (12, 3, False): 1,\n",
       "             (19, 8, True): 0,\n",
       "             (13, 8, True): 1,\n",
       "             (16, 8, True): 1,\n",
       "             (19, 4, False): 0,\n",
       "             (16, 9, False): 1,\n",
       "             (17, 3, True): 2,\n",
       "             (17, 4, False): 0,\n",
       "             (12, 2, True): 1,\n",
       "             (20, 3, False): 0,\n",
       "             (14, 7, False): 1,\n",
       "             (15, 1, True): 1,\n",
       "             (12, 6, True): 1,\n",
       "             (15, 2, False): 0,\n",
       "             (19, 6, False): 0,\n",
       "             (16, 10, True): 1,\n",
       "             (19, 10, False): 0,\n",
       "             (20, 5, False): 0,\n",
       "             (14, 8, True): 1,\n",
       "             (14, 9, False): 1,\n",
       "             (15, 3, True): 2,\n",
       "             (15, 4, False): 0,\n",
       "             (13, 1, False): 1,\n",
       "             (17, 5, False): 0,\n",
       "             (18, 3, True): 2,\n",
       "             (18, 6, False): 0,\n",
       "             (12, 4, False): 0,\n",
       "             (18, 4, False): 0,\n",
       "             (15, 8, False): 1,\n",
       "             (13, 9, True): 1,\n",
       "             (19, 9, True): 0,\n",
       "             (12, 8, False): 1,\n",
       "             (13, 3, False): 0,\n",
       "             (17, 7, False): 0,\n",
       "             (14, 1, True): 1,\n",
       "             (18, 5, True): 2})"
      ]
     },
     "execution_count": 22,
     "metadata": {},
     "output_type": "execute_result"
    }
   ],
   "source": [
    "g.policy_from_Q()"
   ]
  },
  {
   "cell_type": "markdown",
   "id": "9d3b50cf",
   "metadata": {},
   "source": [
    "Возможность удвоения ставки почти не повлияла на средний выигрыш."
   ]
  },
  {
   "cell_type": "markdown",
   "id": "2f09b9aa",
   "metadata": {},
   "source": [
    ">## Часть третья, в главной роли — Дастин Хоффман\n",
    ">А теперь давайте вспомним, как играют в блекджек настоящие профессионалы. Дело в том, что в оффлайн-казино обычно не перемешивают колоду после каждой раздачи — это слишком замедляло бы игру. После раздачи карты просто раздаются дальше с верха колоды до тех пор, пока карт не останется слишком мало, и только тогда колода перемешивается; давайте для определённости считать, что наше казино будет перемешивать колоду, в которой осталось меньше 15 карт.\n",
    "Действительно, если вы будете запоминать, какие карты уже вышли, у вас будет информация о том, какие карты ещё остались, а это позволяет лучше понять, когда нужно удваивать ставку или делать split, а когда лучше не стоит.\n",
    ">\n",
    "> 6. Реализуйте вариант окружения Blackjack-v0 из предыдущей части (с удвоением), в котором игрок имеет возможность “считать карты” в колоде. Это можно сделать разными способами; возможно, вам поможет статья википедии о блекджеке (а возможно, и нет).\n",
    ">\n",
    "> 7. Реализуйте метод обучения с подкреплением без модели для этого варианта, постройте графики, аналогичные п.2."
   ]
  },
  {
   "cell_type": "markdown",
   "id": "228a90a1",
   "metadata": {},
   "source": [
    "Новое окружение реализовано в файле my_blackjack.py. Подсчет осуществляется в виде среднего значения карт на начало раздачи (умноженного на 3 и округленного до целого), которое добавляется четвертым компонентом в состояние."
   ]
  },
  {
   "cell_type": "code",
   "execution_count": 23,
   "id": "6733df8e",
   "metadata": {},
   "outputs": [],
   "source": [
    "from my_blackjack import DoubleBlackjackWithCntEnv"
   ]
  },
  {
   "cell_type": "code",
   "execution_count": 24,
   "id": "fd41932b",
   "metadata": {},
   "outputs": [
    {
     "data": {
      "image/png": "[encoded data removed]",
      "text/plain": [
       "<Figure size 1152x360 with 1 Axes>"
      ]
     },
     "metadata": {
      "needs_background": "light"
     },
     "output_type": "display_data"
    },
    {
     "name": "stdout",
     "output_type": "stream",
     "text": [
      "CPU times: user 2min 10s, sys: 3.36 s, total: 2min 13s\n",
      "Wall time: 3min 14s\n"
     ]
    }
   ],
   "source": [
    "%%time\n",
    "g = Game(lambda: DoubleBlackjackWithCntEnv(), train_fun=partial(ptrain, np=10))\n",
    "g.train_show(n_episodes=300000, \n",
    "           episode_train_fun=partial(episode_MC_control, \n",
    "                                     explore_action_fun=partial(Reward.ucb1, \n",
    "                                                                C=np.sqrt(2))\n",
    "                                    )\n",
    "          )"
   ]
  },
  {
   "cell_type": "markdown",
   "id": "e5e830f8",
   "metadata": {},
   "source": [
    "Окружение с учетом уменьшающейся колоды и обучение стратерии с подсчетом карт дали существенный прирост среднего выигрыша, однако казино обыграть все равно не удалось."
   ]
  }
 ],
 "metadata": {
  "kernelspec": {
   "display_name": "Python 3",
   "language": "python",
   "name": "python3"
  },
  "language_info": {
   "codemirror_mode": {
    "name": "ipython",
    "version": 3
   },
   "file_extension": ".py",
   "mimetype": "text/x-python",
   "name": "python",
   "nbconvert_exporter": "python",
   "pygments_lexer": "ipython3",
   "version": "3.8.10"
  }
 },
 "nbformat": 4,
 "nbformat_minor": 5
}
